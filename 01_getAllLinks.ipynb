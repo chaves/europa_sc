{
 "cells": [
  {
   "cell_type": "code",
   "execution_count": 1,
   "metadata": {},
   "outputs": [],
   "source": [
    "from lxml import html\n",
    "import lxml\n",
    "import time\n",
    "import requests"
   ]
  },
  {
   "cell_type": "code",
   "execution_count": 2,
   "metadata": {},
   "outputs": [],
   "source": [
    "ens = dict()"
   ]
  },
  {
   "cell_type": "code",
   "execution_count": 3,
   "metadata": {},
   "outputs": [],
   "source": [
    "ens['autumn'] = 5\n",
    "ens['spring'] = 4\n",
    "ens['winter'] = 3\n",
    "ens['summer'] = 2\n",
    "# note autumn = 47; spring = 37;  winter = 23; summer = 13\n",
    "# total = 120"
   ]
  },
  {
   "cell_type": "code",
   "execution_count": 4,
   "metadata": {},
   "outputs": [
    {
     "data": {
      "text/plain": [
       "{'autumn': 5, 'spring': 4, 'summer': 2, 'winter': 3}"
      ]
     },
     "execution_count": 4,
     "metadata": {},
     "output_type": "execute_result"
    }
   ],
   "source": [
    "ens"
   ]
  },
  {
   "cell_type": "code",
   "execution_count": 5,
   "metadata": {},
   "outputs": [],
   "source": [
    "liens = list()\n",
    "for key, value in ens.items():\n",
    "    for page in range(value):\n",
    "        page = page + 1\n",
    "        url = 'http://europa.eu/rapid/search-result.htm?quickSearch=1&text={}+2018+forecast&page={}'.format(key,page)\n",
    "        # print(url)\n",
    "        headers = {\"Accept-Language\": \"en-US,en;q=0.5\"}\n",
    "        response = requests.get(url, headers=headers)\n",
    "        content_source = response.text.encode(\"utf-8\")\n",
    "        xml_doc = html.document_fromstring(content_source)\n",
    "        l = xml_doc.xpath(\"//div/a/@href\")\n",
    "        liens.extend(l)"
   ]
  },
  {
   "cell_type": "code",
   "execution_count": 6,
   "metadata": {},
   "outputs": [
    {
     "data": {
      "text/plain": [
       "['/rapid/search.htm?refine=1',\n",
       " '/rapid/press-release_AGENDA-19-845_en.htm',\n",
       " '/rapid/press-release_IP-19-850_en.htm',\n",
       " '/rapid/press-release_MEX-19-902_en.htm',\n",
       " '/rapid/press-release_SPEECH-19-905_en.htm',\n",
       " '/rapid/press-release_MEMO-18-6463_en.htm',\n",
       " '/rapid/press-release_MEX-18-6506_en.htm',\n",
       " '/rapid/press-release_SPEECH-18-6509_en.htm',\n",
       " '/rapid/press-release_SPEECH-18-6508_en.htm',\n",
       " '/rapid/press-release_IP-18-6254_en.htm',\n",
       " '/rapid/press-release_MEX-18-6343_en.htm',\n",
       " '/rapid/search.htm?refine=1',\n",
       " '/rapid/press-release_MEMO-18-6175_en.htm',\n",
       " '/rapid/press-release_MEX-18-3926_en.htm',\n",
       " '/rapid/press-release_MEMO-18-1581_en.htm',\n",
       " '/rapid/press-release_IP-18-604_en.htm',\n",
       " '/rapid/press-release_SPEECH-18-686_en.htm',\n",
       " '/rapid/press-release_MEX-17-5369_en.htm',\n",
       " '/rapid/press-release_MEMO-17-4682_en.htm',\n",
       " '/rapid/press-release_MEX-17-4847_en.htm',\n",
       " '/rapid/press-release_SPEECH-17-4780_en.htm',\n",
       " '/rapid/press-release_SPEECH-17-4779_en.htm',\n",
       " '/rapid/search.htm?refine=1',\n",
       " '/rapid/press-release_AGENDA-17-4361_en.htm',\n",
       " '/rapid/press-release_IP-17-4362_en.htm',\n",
       " '/rapid/press-release_MEX-17-4503_en.htm',\n",
       " '/rapid/press-release_SPEECH-17-4482_en.htm',\n",
       " '/rapid/press-release_SPEECH-17-1431_fr.htm',\n",
       " '/rapid/press-release_MEMO-17-1233_en.htm',\n",
       " '/rapid/press-release_SPEECH-17-1043_en.htm',\n",
       " '/rapid/press-release_AC-17-275_en.htm',\n",
       " '/rapid/press-release_AGENDA-17-232_en.htm',\n",
       " '/rapid/press-release_MEX-17-267_en.htm',\n",
       " '/rapid/search.htm?refine=1',\n",
       " '/rapid/press-release_SPEECH-17-272_en.htm',\n",
       " '/rapid/press-release_IP-17-68_en.htm',\n",
       " '/rapid/press-release_MEMO-16-4025_en.htm',\n",
       " '/rapid/press-release_MEMO-16-3711_en.htm',\n",
       " '/rapid/press-release_MEX-16-3742_en.htm',\n",
       " '/rapid/press-release_IP-16-3611_en.htm',\n",
       " '/rapid/press-release_MEX-16-3642_en.htm',\n",
       " '/rapid/press-release_SPEECH-16-3629_en.htm',\n",
       " '/rapid/press-release_WM-16-3895_en.htm',\n",
       " '/rapid/press-release_IP-16-2625_en.htm',\n",
       " '/rapid/search.htm?refine=1',\n",
       " '/rapid/press-release_SPEECH-16-643_en.htm',\n",
       " '/rapid/press-release_SPEECH-15-6101_en.htm',\n",
       " '/rapid/press-release_MEMO-15-5513_en.htm',\n",
       " '/rapid/press-release_MEMO-11-898_en.htm',\n",
       " '/rapid/press-release_PRES-10-28_en.htm',\n",
       " '/rapid/press-release_AGENDA-09-2_en.htm',\n",
       " '/rapid/press-release_AGENDA-09-1_en.htm',\n",
       " '/rapid/search.htm?refine=1',\n",
       " '/rapid/press-release_AGENDA-19-845_en.htm',\n",
       " '/rapid/press-release_MEX-18-4484_en.htm',\n",
       " '/rapid/press-release_SPEECH-18-4485_en.htm',\n",
       " '/rapid/press-release_MEX-18-3926_en.htm',\n",
       " '/rapid/press-release_SPEECH-18-3905_en.htm',\n",
       " '/rapid/press-release_IP-18-3605_en.htm',\n",
       " '/rapid/press-release_MEX-18-3666_en.htm',\n",
       " '/rapid/press-release_SPEECH-18-3648_en.htm',\n",
       " '/rapid/press-release_MEMO-18-1581_en.htm',\n",
       " '/rapid/press-release_STATEMENT-18-563_en.htm',\n",
       " '/rapid/search.htm?refine=1',\n",
       " '/rapid/press-release_MEX-17-5369_en.htm',\n",
       " '/rapid/press-release_MEMO-17-4682_en.htm',\n",
       " '/rapid/press-release_SPEECH-17-4780_en.htm',\n",
       " '/rapid/press-release_SPEECH-17-4779_en.htm',\n",
       " '/rapid/press-release_MEX-17-4503_en.htm',\n",
       " '/rapid/press-release_SPEECH-17-4482_en.htm',\n",
       " '/rapid/press-release_MEMO-17-3341_en.htm',\n",
       " '/rapid/press-release_IP-17-1962_en.htm',\n",
       " '/rapid/press-release_SPEECH-17-1425_en.htm',\n",
       " '/rapid/press-release_IP-17-1237_en.htm',\n",
       " '/rapid/search.htm?refine=1',\n",
       " '/rapid/press-release_MEX-17-1275_en.htm',\n",
       " '/rapid/press-release_SPEECH-17-1265_fr.htm',\n",
       " '/rapid/press-release_MEMO-17-1233_en.htm',\n",
       " '/rapid/press-release_SPEECH-17-332_en.htm',\n",
       " '/rapid/press-release_AGENDA-17-232_en.htm',\n",
       " '/rapid/press-release_IP-17-68_en.htm',\n",
       " '/rapid/press-release_MEMO-16-3711_en.htm',\n",
       " '/rapid/press-release_MEX-16-3642_en.htm',\n",
       " '/rapid/press-release_SPEECH-16-3629_en.htm',\n",
       " '/rapid/press-release_WM-16-3895_en.htm',\n",
       " '/rapid/search.htm?refine=1',\n",
       " '/rapid/press-release_IP-16-2625_en.htm',\n",
       " '/rapid/press-release_MEMO-16-2624_en.htm',\n",
       " '/rapid/press-release_MEX-16-1653_en.htm',\n",
       " '/rapid/press-release_MEX-13-0503_en.htm',\n",
       " '/rapid/press-release_MEMO-11-898_en.htm',\n",
       " '/rapid/press-release_AGENDA-09-2_en.htm',\n",
       " '/rapid/press-release_AGENDA-09-1_en.htm',\n",
       " '/rapid/search.htm?refine=1',\n",
       " '/rapid/press-release_MEX-19-1009_en.htm',\n",
       " '/rapid/press-release_AGENDA-19-845_en.htm',\n",
       " '/rapid/press-release_IP-19-850_en.htm',\n",
       " '/rapid/press-release_MEX-19-902_en.htm',\n",
       " '/rapid/press-release_SPEECH-19-905_en.htm',\n",
       " '/rapid/press-release_IP-18-6254_en.htm',\n",
       " '/rapid/press-release_IP-18-4402_en.htm',\n",
       " '/rapid/press-release_MEMO-18-1581_en.htm',\n",
       " '/rapid/press-release_IP-18-604_en.htm',\n",
       " '/rapid/press-release_SPEECH-18-686_en.htm',\n",
       " '/rapid/search.htm?refine=1',\n",
       " '/rapid/press-release_IP-17-1237_en.htm',\n",
       " '/rapid/press-release_MEX-17-1275_en.htm',\n",
       " '/rapid/press-release_SPEECH-17-1265_fr.htm',\n",
       " '/rapid/press-release_SPEECH-17-332_en.htm',\n",
       " '/rapid/press-release_MEX-17-310_en.htm',\n",
       " '/rapid/press-release_AC-17-275_en.htm',\n",
       " '/rapid/press-release_AGENDA-17-232_en.htm',\n",
       " '/rapid/press-release_IP-17-251_en.htm',\n",
       " '/rapid/press-release_MEX-17-267_en.htm',\n",
       " '/rapid/press-release_SPEECH-16-701_en.htm',\n",
       " '/rapid/search.htm?refine=1',\n",
       " '/rapid/press-release_SPEECH-16-643_en.htm',\n",
       " '/rapid/press-release_STATEMENT-15-5502_en.htm',\n",
       " '/rapid/press-release_MEMO-14-164_en.htm',\n",
       " '/rapid/search.htm?refine=1',\n",
       " '/rapid/press-release_AGENDA-19-845_en.htm',\n",
       " '/rapid/press-release_MEX-18-4524_en.htm',\n",
       " '/rapid/press-release_IP-18-4402_en.htm',\n",
       " '/rapid/press-release_MEX-18-4484_en.htm',\n",
       " '/rapid/press-release_SPEECH-18-4507_en.htm',\n",
       " '/rapid/press-release_SPEECH-18-4485_en.htm',\n",
       " '/rapid/press-release_MEX-18-3926_en.htm',\n",
       " '/rapid/press-release_MEX-18-3666_en.htm',\n",
       " '/rapid/press-release_MEMO-18-3371_en.htm',\n",
       " '/rapid/press-release_SPEECH-17-4406_en.htm',\n",
       " '/rapid/search.htm?refine=1',\n",
       " '/rapid/press-release_SPEECH-17-898_en.htm',\n",
       " '/rapid/press-release_MEX-16-3642_en.htm',\n",
       " '/rapid/press-release_AGENDA-08-45_en.htm']"
      ]
     },
     "execution_count": 6,
     "metadata": {},
     "output_type": "execute_result"
    }
   ],
   "source": [
    "liens"
   ]
  },
  {
   "cell_type": "code",
   "execution_count": 7,
   "metadata": {},
   "outputs": [
    {
     "data": {
      "text/plain": [
       "134"
      ]
     },
     "execution_count": 7,
     "metadata": {},
     "output_type": "execute_result"
    }
   ],
   "source": [
    "len(liens)"
   ]
  },
  {
   "cell_type": "code",
   "execution_count": 8,
   "metadata": {},
   "outputs": [],
   "source": [
    "# remove search links\n",
    "liens = list(filter(lambda x: x!= '/rapid/search.htm?refine=1', liens))"
   ]
  },
  {
   "cell_type": "code",
   "execution_count": 9,
   "metadata": {},
   "outputs": [
    {
     "data": {
      "text/plain": [
       "120"
      ]
     },
     "execution_count": 9,
     "metadata": {},
     "output_type": "execute_result"
    }
   ],
   "source": [
    "len(liens)"
   ]
  },
  {
   "cell_type": "code",
   "execution_count": 10,
   "metadata": {},
   "outputs": [],
   "source": [
    "import pickle\n",
    "with open('liens.pickle', 'wb') as handle:\n",
    "    pickle.dump(liens, handle, protocol=pickle.HIGHEST_PROTOCOL)"
   ]
  },
  {
   "cell_type": "code",
   "execution_count": null,
   "metadata": {},
   "outputs": [],
   "source": []
  },
  {
   "cell_type": "code",
   "execution_count": null,
   "metadata": {},
   "outputs": [],
   "source": []
  },
  {
   "cell_type": "code",
   "execution_count": null,
   "metadata": {},
   "outputs": [],
   "source": []
  }
 ],
 "metadata": {
  "kernelspec": {
   "display_name": "Python 3",
   "language": "python",
   "name": "python3"
  },
  "language_info": {
   "codemirror_mode": {
    "name": "ipython",
    "version": 3
   },
   "file_extension": ".py",
   "mimetype": "text/x-python",
   "name": "python",
   "nbconvert_exporter": "python",
   "pygments_lexer": "ipython3",
   "version": "3.6.3"
  }
 },
 "nbformat": 4,
 "nbformat_minor": 2
}
