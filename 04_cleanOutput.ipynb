{
 "cells": [
  {
   "cell_type": "code",
   "execution_count": 1,
   "metadata": {},
   "outputs": [],
   "source": [
    "import pickle\n",
    "import re\n",
    "import pandas as pd"
   ]
  },
  {
   "cell_type": "code",
   "execution_count": 2,
   "metadata": {},
   "outputs": [],
   "source": [
    "df_articles = pickle.load(open('df_articles.pickle', 'rb'))"
   ]
  },
  {
   "cell_type": "code",
   "execution_count": 3,
   "metadata": {},
   "outputs": [
    {
     "data": {
      "text/html": [
       "<div>\n",
       "<style scoped>\n",
       "    .dataframe tbody tr th:only-of-type {\n",
       "        vertical-align: middle;\n",
       "    }\n",
       "\n",
       "    .dataframe tbody tr th {\n",
       "        vertical-align: top;\n",
       "    }\n",
       "\n",
       "    .dataframe thead th {\n",
       "        text-align: right;\n",
       "    }\n",
       "</style>\n",
       "<table border=\"1\" class=\"dataframe\">\n",
       "  <thead>\n",
       "    <tr style=\"text-align: right;\">\n",
       "      <th></th>\n",
       "      <th>lien</th>\n",
       "      <th>doc_type</th>\n",
       "      <th>date</th>\n",
       "      <th>content</th>\n",
       "    </tr>\n",
       "  </thead>\n",
       "  <tbody>\n",
       "    <tr>\n",
       "      <th>1</th>\n",
       "      <td>/rapid/press-release_AGENDA-19-845_en.htm</td>\n",
       "      <td>AGENDA</td>\n",
       "      <td></td>\n",
       "      <td>European Commission - Upcoming events Thursda...</td>\n",
       "    </tr>\n",
       "    <tr>\n",
       "      <th>2</th>\n",
       "      <td>/rapid/press-release_IP-19-850_en.htm</td>\n",
       "      <td>IP</td>\n",
       "      <td>Brussels, 7 February 2019</td>\n",
       "      <td>European Commission - Press release Winter 20...</td>\n",
       "    </tr>\n",
       "    <tr>\n",
       "      <th>3</th>\n",
       "      <td>/rapid/press-release_MEX-19-902_en.htm</td>\n",
       "      <td>MEX</td>\n",
       "      <td>Brussels, 7 February 2019</td>\n",
       "      <td>European Commission - Daily News Daily News 0...</td>\n",
       "    </tr>\n",
       "    <tr>\n",
       "      <th>4</th>\n",
       "      <td>/rapid/press-release_SPEECH-19-905_en.htm</td>\n",
       "      <td>SPEECH</td>\n",
       "      <td>Brussels, 7 February 2019</td>\n",
       "      <td>European Commission - Speech - [Check Against...</td>\n",
       "    </tr>\n",
       "    <tr>\n",
       "      <th>5</th>\n",
       "      <td>/rapid/press-release_MEMO-18-6463_en.htm</td>\n",
       "      <td>MEMO</td>\n",
       "      <td>Brussels, 21 November 2018</td>\n",
       "      <td>European Commission - Fact Sheet European Sem...</td>\n",
       "    </tr>\n",
       "  </tbody>\n",
       "</table>\n",
       "</div>"
      ],
      "text/plain": [
       "                                        lien doc_type  \\\n",
       "1  /rapid/press-release_AGENDA-19-845_en.htm   AGENDA   \n",
       "2      /rapid/press-release_IP-19-850_en.htm       IP   \n",
       "3     /rapid/press-release_MEX-19-902_en.htm      MEX   \n",
       "4  /rapid/press-release_SPEECH-19-905_en.htm   SPEECH   \n",
       "5   /rapid/press-release_MEMO-18-6463_en.htm     MEMO   \n",
       "\n",
       "                         date  \\\n",
       "1                               \n",
       "2   Brussels, 7 February 2019   \n",
       "3   Brussels, 7 February 2019   \n",
       "4   Brussels, 7 February 2019   \n",
       "5  Brussels, 21 November 2018   \n",
       "\n",
       "                                             content  \n",
       "1   European Commission - Upcoming events Thursda...  \n",
       "2   European Commission - Press release Winter 20...  \n",
       "3   European Commission - Daily News Daily News 0...  \n",
       "4   European Commission - Speech - [Check Against...  \n",
       "5   European Commission - Fact Sheet European Sem...  "
      ]
     },
     "execution_count": 3,
     "metadata": {},
     "output_type": "execute_result"
    }
   ],
   "source": [
    "df_articles.head()"
   ]
  },
  {
   "cell_type": "code",
   "execution_count": 4,
   "metadata": {},
   "outputs": [],
   "source": [
    "def clean_date(date):\n",
    "    if( len(date) > 4):\n",
    "        d = date.split('Brussels, ')\n",
    "        if (len(d)>1):\n",
    "            return d[1]\n",
    "        else:\n",
    "            return d[0]\n",
    "    return ''"
   ]
  },
  {
   "cell_type": "code",
   "execution_count": 5,
   "metadata": {},
   "outputs": [],
   "source": [
    "df_articles['date'] = df_articles['date'].apply(lambda x: clean_date(x))"
   ]
  },
  {
   "cell_type": "code",
   "execution_count": 6,
   "metadata": {},
   "outputs": [
    {
     "data": {
      "text/html": [
       "<div>\n",
       "<style scoped>\n",
       "    .dataframe tbody tr th:only-of-type {\n",
       "        vertical-align: middle;\n",
       "    }\n",
       "\n",
       "    .dataframe tbody tr th {\n",
       "        vertical-align: top;\n",
       "    }\n",
       "\n",
       "    .dataframe thead th {\n",
       "        text-align: right;\n",
       "    }\n",
       "</style>\n",
       "<table border=\"1\" class=\"dataframe\">\n",
       "  <thead>\n",
       "    <tr style=\"text-align: right;\">\n",
       "      <th></th>\n",
       "      <th>lien</th>\n",
       "      <th>doc_type</th>\n",
       "      <th>date</th>\n",
       "      <th>content</th>\n",
       "    </tr>\n",
       "  </thead>\n",
       "  <tbody>\n",
       "    <tr>\n",
       "      <th>1</th>\n",
       "      <td>/rapid/press-release_AGENDA-19-845_en.htm</td>\n",
       "      <td>AGENDA</td>\n",
       "      <td></td>\n",
       "      <td>European Commission - Upcoming events Thursda...</td>\n",
       "    </tr>\n",
       "    <tr>\n",
       "      <th>2</th>\n",
       "      <td>/rapid/press-release_IP-19-850_en.htm</td>\n",
       "      <td>IP</td>\n",
       "      <td>7 February 2019</td>\n",
       "      <td>European Commission - Press release Winter 20...</td>\n",
       "    </tr>\n",
       "    <tr>\n",
       "      <th>3</th>\n",
       "      <td>/rapid/press-release_MEX-19-902_en.htm</td>\n",
       "      <td>MEX</td>\n",
       "      <td>7 February 2019</td>\n",
       "      <td>European Commission - Daily News Daily News 0...</td>\n",
       "    </tr>\n",
       "    <tr>\n",
       "      <th>4</th>\n",
       "      <td>/rapid/press-release_SPEECH-19-905_en.htm</td>\n",
       "      <td>SPEECH</td>\n",
       "      <td>7 February 2019</td>\n",
       "      <td>European Commission - Speech - [Check Against...</td>\n",
       "    </tr>\n",
       "    <tr>\n",
       "      <th>5</th>\n",
       "      <td>/rapid/press-release_MEMO-18-6463_en.htm</td>\n",
       "      <td>MEMO</td>\n",
       "      <td>21 November 2018</td>\n",
       "      <td>European Commission - Fact Sheet European Sem...</td>\n",
       "    </tr>\n",
       "  </tbody>\n",
       "</table>\n",
       "</div>"
      ],
      "text/plain": [
       "                                        lien doc_type              date  \\\n",
       "1  /rapid/press-release_AGENDA-19-845_en.htm   AGENDA                     \n",
       "2      /rapid/press-release_IP-19-850_en.htm       IP   7 February 2019   \n",
       "3     /rapid/press-release_MEX-19-902_en.htm      MEX   7 February 2019   \n",
       "4  /rapid/press-release_SPEECH-19-905_en.htm   SPEECH   7 February 2019   \n",
       "5   /rapid/press-release_MEMO-18-6463_en.htm     MEMO  21 November 2018   \n",
       "\n",
       "                                             content  \n",
       "1   European Commission - Upcoming events Thursda...  \n",
       "2   European Commission - Press release Winter 20...  \n",
       "3   European Commission - Daily News Daily News 0...  \n",
       "4   European Commission - Speech - [Check Against...  \n",
       "5   European Commission - Fact Sheet European Sem...  "
      ]
     },
     "execution_count": 6,
     "metadata": {},
     "output_type": "execute_result"
    }
   ],
   "source": [
    "df_articles.head()"
   ]
  },
  {
   "cell_type": "code",
   "execution_count": 7,
   "metadata": {},
   "outputs": [],
   "source": [
    "df_articles.to_csv('europa.csv', index=False, header=True)"
   ]
  },
  {
   "cell_type": "code",
   "execution_count": null,
   "metadata": {},
   "outputs": [],
   "source": []
  },
  {
   "cell_type": "code",
   "execution_count": null,
   "metadata": {},
   "outputs": [],
   "source": []
  }
 ],
 "metadata": {
  "kernelspec": {
   "display_name": "Python 3",
   "language": "python",
   "name": "python3"
  },
  "language_info": {
   "codemirror_mode": {
    "name": "ipython",
    "version": 3
   },
   "file_extension": ".py",
   "mimetype": "text/x-python",
   "name": "python",
   "nbconvert_exporter": "python",
   "pygments_lexer": "ipython3",
   "version": "3.6.3"
  }
 },
 "nbformat": 4,
 "nbformat_minor": 2
}
