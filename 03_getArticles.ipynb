{
 "cells": [
  {
   "cell_type": "code",
   "execution_count": 1,
   "metadata": {},
   "outputs": [],
   "source": [
    "from lxml import html\n",
    "import lxml\n",
    "from lxml.etree import tostring\n",
    "from bs4 import BeautifulSoup\n",
    "import time\n",
    "import requests\n",
    "import pickle\n",
    "import re\n",
    "import pandas as pd"
   ]
  },
  {
   "cell_type": "code",
   "execution_count": 2,
   "metadata": {},
   "outputs": [],
   "source": [
    "liens = pickle.load(open('liens_filtres.pickle', 'rb'))"
   ]
  },
  {
   "cell_type": "code",
   "execution_count": 3,
   "metadata": {},
   "outputs": [],
   "source": [
    "columns = ['lien', 'doc_type', 'date', 'content']\n",
    "df_output = pd.DataFrame(columns=columns)"
   ]
  },
  {
   "cell_type": "code",
   "execution_count": 4,
   "metadata": {},
   "outputs": [],
   "source": [
    "def convert_to_text(content):\n",
    "    raw_html = tostring(content)\n",
    "    soup = BeautifulSoup(raw_html, \"lxml\")\n",
    "    text = soup.get_text()\n",
    "    text = re.sub('\\s+', ' ', text)\n",
    "    return text"
   ]
  },
  {
   "cell_type": "code",
   "execution_count": 5,
   "metadata": {},
   "outputs": [],
   "source": [
    "def find_type(lien):\n",
    "    matches = re.findall(r\"(?:[A-Z])+(?=[:-])\", lien)\n",
    "    if (len(matches) > 0):\n",
    "        return matches[0]\n",
    "    return ''"
   ]
  },
  {
   "cell_type": "code",
   "execution_count": 6,
   "metadata": {},
   "outputs": [],
   "source": [
    "def get_date(date):\n",
    "    if (len(date) > 0):\n",
    "        return date[0]\n",
    "    return ''"
   ]
  },
  {
   "cell_type": "code",
   "execution_count": 7,
   "metadata": {},
   "outputs": [],
   "source": [
    "def get_row(lien):\n",
    "    url = 'http://europa.eu'+lien\n",
    "    response = requests.get(url)\n",
    "    if(response.status_code == 200):\n",
    "        content_source = response.text.encode(\"utf-8\")\n",
    "        xml_doc = html.document_fromstring(content_source)\n",
    "\n",
    "        doc_type = find_type(lien)\n",
    "\n",
    "        date = xml_doc.xpath(\"//p[@class = 'date']/text()\")\n",
    "        date = get_date(date)\n",
    "\n",
    "        content_tree = xml_doc.xpath(\"//div[@id = 'contentPressRelease']\")\n",
    "        content = convert_to_text(content_tree[0])\n",
    "\n",
    "        row = [lien, doc_type, date, content]\n",
    "        return row\n",
    "    return False"
   ]
  },
  {
   "cell_type": "code",
   "execution_count": 8,
   "metadata": {},
   "outputs": [
    {
     "name": "stdout",
     "output_type": "stream",
     "text": [
      "/rapid/press-release_AGENDA-19-845_en.htm\n",
      "/rapid/press-release_IP-19-850_en.htm\n",
      "/rapid/press-release_MEX-19-902_en.htm\n",
      "/rapid/press-release_SPEECH-19-905_en.htm\n",
      "/rapid/press-release_MEMO-18-6463_en.htm\n",
      "/rapid/press-release_MEX-18-6506_en.htm\n",
      "/rapid/press-release_SPEECH-18-6509_en.htm\n",
      "/rapid/press-release_SPEECH-18-6508_en.htm\n",
      "/rapid/press-release_IP-18-6254_en.htm\n",
      "/rapid/press-release_MEX-18-6343_en.htm\n",
      "/rapid/press-release_MEMO-18-6175_en.htm\n",
      "/rapid/press-release_MEX-18-3926_en.htm\n",
      "/rapid/press-release_MEMO-18-1581_en.htm\n",
      "/rapid/press-release_IP-18-604_en.htm\n",
      "/rapid/press-release_SPEECH-18-686_en.htm\n",
      "/rapid/press-release_MEX-17-5369_en.htm\n",
      "/rapid/press-release_MEMO-17-4682_en.htm\n",
      "/rapid/press-release_MEX-17-4847_en.htm\n",
      "/rapid/press-release_SPEECH-17-4780_en.htm\n",
      "/rapid/press-release_SPEECH-17-4779_en.htm\n",
      "/rapid/press-release_AGENDA-17-4361_en.htm\n",
      "/rapid/press-release_IP-17-4362_en.htm\n",
      "/rapid/press-release_MEX-17-4503_en.htm\n",
      "/rapid/press-release_SPEECH-17-4482_en.htm\n",
      "/rapid/press-release_MEMO-17-1233_en.htm\n",
      "/rapid/press-release_SPEECH-17-1043_en.htm\n",
      "/rapid/press-release_AC-17-275_en.htm\n",
      "/rapid/press-release_AGENDA-17-232_en.htm\n",
      "/rapid/press-release_MEX-17-267_en.htm\n",
      "/rapid/press-release_SPEECH-17-272_en.htm\n",
      "/rapid/press-release_IP-17-68_en.htm\n",
      "/rapid/press-release_MEMO-16-4025_en.htm\n",
      "/rapid/press-release_MEMO-16-3711_en.htm\n",
      "/rapid/press-release_MEX-16-3742_en.htm\n",
      "/rapid/press-release_IP-16-3611_en.htm\n",
      "/rapid/press-release_MEX-16-3642_en.htm\n",
      "/rapid/press-release_SPEECH-16-3629_en.htm\n",
      "/rapid/press-release_WM-16-3895_en.htm\n",
      "/rapid/press-release_IP-16-2625_en.htm\n",
      "/rapid/press-release_SPEECH-16-643_en.htm\n",
      "/rapid/press-release_SPEECH-15-6101_en.htm\n",
      "/rapid/press-release_MEMO-15-5513_en.htm\n",
      "/rapid/press-release_MEMO-11-898_en.htm\n",
      "/rapid/press-release_PRES-10-28_en.htm\n",
      "/rapid/press-release_AGENDA-09-2_en.htm\n",
      "/rapid/press-release_AGENDA-09-1_en.htm\n",
      "/rapid/press-release_AGENDA-19-845_en.htm\n",
      "/rapid/press-release_MEX-18-4484_en.htm\n",
      "/rapid/press-release_SPEECH-18-4485_en.htm\n",
      "/rapid/press-release_MEX-18-3926_en.htm\n",
      "/rapid/press-release_SPEECH-18-3905_en.htm\n",
      "/rapid/press-release_IP-18-3605_en.htm\n",
      "/rapid/press-release_MEX-18-3666_en.htm\n",
      "/rapid/press-release_SPEECH-18-3648_en.htm\n",
      "/rapid/press-release_MEMO-18-1581_en.htm\n",
      "/rapid/press-release_STATEMENT-18-563_en.htm\n",
      "/rapid/press-release_MEX-17-5369_en.htm\n",
      "/rapid/press-release_MEMO-17-4682_en.htm\n",
      "/rapid/press-release_SPEECH-17-4780_en.htm\n",
      "/rapid/press-release_SPEECH-17-4779_en.htm\n",
      "/rapid/press-release_MEX-17-4503_en.htm\n",
      "/rapid/press-release_SPEECH-17-4482_en.htm\n",
      "/rapid/press-release_MEMO-17-3341_en.htm\n",
      "/rapid/press-release_IP-17-1962_en.htm\n",
      "/rapid/press-release_SPEECH-17-1425_en.htm\n",
      "/rapid/press-release_IP-17-1237_en.htm\n",
      "/rapid/press-release_MEX-17-1275_en.htm\n",
      "/rapid/press-release_MEMO-17-1233_en.htm\n",
      "/rapid/press-release_SPEECH-17-332_en.htm\n",
      "/rapid/press-release_AGENDA-17-232_en.htm\n",
      "/rapid/press-release_IP-17-68_en.htm\n",
      "/rapid/press-release_MEMO-16-3711_en.htm\n",
      "/rapid/press-release_MEX-16-3642_en.htm\n",
      "/rapid/press-release_SPEECH-16-3629_en.htm\n",
      "/rapid/press-release_WM-16-3895_en.htm\n",
      "/rapid/press-release_IP-16-2625_en.htm\n",
      "/rapid/press-release_MEMO-16-2624_en.htm\n",
      "/rapid/press-release_MEX-16-1653_en.htm\n",
      "/rapid/press-release_MEX-13-0503_en.htm\n",
      "/rapid/press-release_MEMO-11-898_en.htm\n",
      "/rapid/press-release_AGENDA-09-2_en.htm\n",
      "/rapid/press-release_AGENDA-09-1_en.htm\n",
      "/rapid/press-release_MEX-19-1009_en.htm\n",
      "/rapid/press-release_AGENDA-19-845_en.htm\n",
      "/rapid/press-release_IP-19-850_en.htm\n",
      "/rapid/press-release_MEX-19-902_en.htm\n",
      "/rapid/press-release_SPEECH-19-905_en.htm\n",
      "/rapid/press-release_IP-18-6254_en.htm\n",
      "/rapid/press-release_IP-18-4402_en.htm\n",
      "/rapid/press-release_MEMO-18-1581_en.htm\n",
      "/rapid/press-release_IP-18-604_en.htm\n",
      "/rapid/press-release_SPEECH-18-686_en.htm\n",
      "/rapid/press-release_IP-17-1237_en.htm\n",
      "/rapid/press-release_MEX-17-1275_en.htm\n",
      "/rapid/press-release_SPEECH-17-332_en.htm\n",
      "/rapid/press-release_MEX-17-310_en.htm\n",
      "/rapid/press-release_AC-17-275_en.htm\n",
      "/rapid/press-release_AGENDA-17-232_en.htm\n",
      "/rapid/press-release_IP-17-251_en.htm\n",
      "/rapid/press-release_MEX-17-267_en.htm\n",
      "/rapid/press-release_SPEECH-16-701_en.htm\n",
      "/rapid/press-release_SPEECH-16-643_en.htm\n",
      "/rapid/press-release_STATEMENT-15-5502_en.htm\n",
      "/rapid/press-release_MEMO-14-164_en.htm\n",
      "/rapid/press-release_AGENDA-19-845_en.htm\n",
      "/rapid/press-release_MEX-18-4524_en.htm\n",
      "/rapid/press-release_IP-18-4402_en.htm\n",
      "/rapid/press-release_MEX-18-4484_en.htm\n",
      "/rapid/press-release_SPEECH-18-4507_en.htm\n",
      "/rapid/press-release_SPEECH-18-4485_en.htm\n",
      "/rapid/press-release_MEX-18-3926_en.htm\n",
      "/rapid/press-release_MEX-18-3666_en.htm\n",
      "/rapid/press-release_MEMO-18-3371_en.htm\n",
      "/rapid/press-release_SPEECH-17-4406_en.htm\n",
      "/rapid/press-release_SPEECH-17-898_en.htm\n",
      "/rapid/press-release_MEX-16-3642_en.htm\n",
      "/rapid/press-release_AGENDA-08-45_en.htm\n"
     ]
    }
   ],
   "source": [
    "index = 1\n",
    "for lien in liens:\n",
    "    print(lien)\n",
    "    doc = get_row(lien)\n",
    "    if (doc):\n",
    "        df_output.loc[index] = get_row(lien)\n",
    "        index = index + 1\n",
    "        time.sleep(2)"
   ]
  },
  {
   "cell_type": "code",
   "execution_count": 9,
   "metadata": {},
   "outputs": [
    {
     "data": {
      "text/html": [
       "<div>\n",
       "<style scoped>\n",
       "    .dataframe tbody tr th:only-of-type {\n",
       "        vertical-align: middle;\n",
       "    }\n",
       "\n",
       "    .dataframe tbody tr th {\n",
       "        vertical-align: top;\n",
       "    }\n",
       "\n",
       "    .dataframe thead th {\n",
       "        text-align: right;\n",
       "    }\n",
       "</style>\n",
       "<table border=\"1\" class=\"dataframe\">\n",
       "  <thead>\n",
       "    <tr style=\"text-align: right;\">\n",
       "      <th></th>\n",
       "      <th>lien</th>\n",
       "      <th>doc_type</th>\n",
       "      <th>date</th>\n",
       "      <th>content</th>\n",
       "    </tr>\n",
       "  </thead>\n",
       "  <tbody>\n",
       "    <tr>\n",
       "      <th>1</th>\n",
       "      <td>/rapid/press-release_AGENDA-19-845_en.htm</td>\n",
       "      <td>AGENDA</td>\n",
       "      <td></td>\n",
       "      <td>European Commission - Upcoming events Thursda...</td>\n",
       "    </tr>\n",
       "    <tr>\n",
       "      <th>2</th>\n",
       "      <td>/rapid/press-release_IP-19-850_en.htm</td>\n",
       "      <td>IP</td>\n",
       "      <td>Brussels, 7 February 2019</td>\n",
       "      <td>European Commission - Press release Winter 20...</td>\n",
       "    </tr>\n",
       "    <tr>\n",
       "      <th>3</th>\n",
       "      <td>/rapid/press-release_MEX-19-902_en.htm</td>\n",
       "      <td>MEX</td>\n",
       "      <td>Brussels, 7 February 2019</td>\n",
       "      <td>European Commission - Daily News Daily News 0...</td>\n",
       "    </tr>\n",
       "    <tr>\n",
       "      <th>4</th>\n",
       "      <td>/rapid/press-release_SPEECH-19-905_en.htm</td>\n",
       "      <td>SPEECH</td>\n",
       "      <td>Brussels, 7 February 2019</td>\n",
       "      <td>European Commission - Speech - [Check Against...</td>\n",
       "    </tr>\n",
       "    <tr>\n",
       "      <th>5</th>\n",
       "      <td>/rapid/press-release_MEMO-18-6463_en.htm</td>\n",
       "      <td>MEMO</td>\n",
       "      <td>Brussels, 21 November 2018</td>\n",
       "      <td>European Commission - Fact Sheet European Sem...</td>\n",
       "    </tr>\n",
       "  </tbody>\n",
       "</table>\n",
       "</div>"
      ],
      "text/plain": [
       "                                        lien doc_type  \\\n",
       "1  /rapid/press-release_AGENDA-19-845_en.htm   AGENDA   \n",
       "2      /rapid/press-release_IP-19-850_en.htm       IP   \n",
       "3     /rapid/press-release_MEX-19-902_en.htm      MEX   \n",
       "4  /rapid/press-release_SPEECH-19-905_en.htm   SPEECH   \n",
       "5   /rapid/press-release_MEMO-18-6463_en.htm     MEMO   \n",
       "\n",
       "                         date  \\\n",
       "1                               \n",
       "2   Brussels, 7 February 2019   \n",
       "3   Brussels, 7 February 2019   \n",
       "4   Brussels, 7 February 2019   \n",
       "5  Brussels, 21 November 2018   \n",
       "\n",
       "                                             content  \n",
       "1   European Commission - Upcoming events Thursda...  \n",
       "2   European Commission - Press release Winter 20...  \n",
       "3   European Commission - Daily News Daily News 0...  \n",
       "4   European Commission - Speech - [Check Against...  \n",
       "5   European Commission - Fact Sheet European Sem...  "
      ]
     },
     "execution_count": 9,
     "metadata": {},
     "output_type": "execute_result"
    }
   ],
   "source": [
    "df_output.head()"
   ]
  },
  {
   "cell_type": "code",
   "execution_count": 11,
   "metadata": {},
   "outputs": [],
   "source": [
    "# df_output.to_csv('ecb.csv', index=False, header=True)"
   ]
  },
  {
   "cell_type": "code",
   "execution_count": 12,
   "metadata": {},
   "outputs": [
    {
     "name": "stdout",
     "output_type": "stream",
     "text": [
      "<class 'pandas.core.frame.DataFrame'>\n",
      "Int64Index: 116 entries, 1 to 116\n",
      "Data columns (total 4 columns):\n",
      "lien        116 non-null object\n",
      "doc_type    116 non-null object\n",
      "date        116 non-null object\n",
      "content     116 non-null object\n",
      "dtypes: object(4)\n",
      "memory usage: 4.5+ KB\n"
     ]
    }
   ],
   "source": [
    "# Un lien n'est pas valide -> 116 pages au lieu de 117\n",
    "df_output.info()"
   ]
  },
  {
   "cell_type": "code",
   "execution_count": 10,
   "metadata": {},
   "outputs": [],
   "source": [
    "with open('df_articles.pickle', 'wb') as handle:\n",
    "    pickle.dump(df_output, handle, protocol=pickle.HIGHEST_PROTOCOL)"
   ]
  },
  {
   "cell_type": "code",
   "execution_count": null,
   "metadata": {},
   "outputs": [],
   "source": [
    "# tests\n",
    "response = requests.get('http://europa.eu/rapid/press-release_AGENDA-19-845_en.htm')\n",
    "content_source = response.text.encode(\"utf-8\")\n",
    "xml_doc = html.document_fromstring(content_source)\n",
    "content = xml_doc.xpath(\"//div[@id = 'contentPressRelease']\")"
   ]
  },
  {
   "cell_type": "code",
   "execution_count": null,
   "metadata": {},
   "outputs": [],
   "source": []
  },
  {
   "cell_type": "code",
   "execution_count": null,
   "metadata": {},
   "outputs": [],
   "source": [
    "response.status_code"
   ]
  },
  {
   "cell_type": "code",
   "execution_count": null,
   "metadata": {},
   "outputs": [],
   "source": []
  }
 ],
 "metadata": {
  "kernelspec": {
   "display_name": "Python 3",
   "language": "python",
   "name": "python3"
  },
  "language_info": {
   "codemirror_mode": {
    "name": "ipython",
    "version": 3
   },
   "file_extension": ".py",
   "mimetype": "text/x-python",
   "name": "python",
   "nbconvert_exporter": "python",
   "pygments_lexer": "ipython3",
   "version": "3.6.3"
  }
 },
 "nbformat": 4,
 "nbformat_minor": 2
}
